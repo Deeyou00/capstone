{
 "cells": [
  {
   "cell_type": "code",
   "execution_count": 4,
   "metadata": {},
   "outputs": [
    {
     "name": "stderr",
     "output_type": "stream",
     "text": [
      "Loading checkpoint shards: 100%|██████████| 4/4 [00:00<00:00,  5.64it/s]\n"
     ]
    }
   ],
   "source": [
    "import torch\n",
    "from peft import PeftModel\n",
    "from transformers import AutoTokenizer, AutoModelForCausalLM\n",
    "\n",
    "def apply_lora(base_model_path, lora_path, output_path):\n",
    "    # 加载基础模型的tokenizer和模型\n",
    "    base_tokenizer = AutoTokenizer.from_pretrained(base_model_path, use_fast=False)\n",
    "    base_model = AutoModelForCausalLM.from_pretrained(base_model_path, torch_dtype=torch.bfloat16)\n",
    "    \n",
    "    # 加载LoRA模型\n",
    "    lora_model = PeftModel.from_pretrained(\n",
    "        base_model,\n",
    "        lora_path,\n",
    "        torch_dtype=torch.float16,\n",
    "    )\n",
    "    \n",
    "    # 应用LoRA并卸载LoRA模型\n",
    "    model = lora_model.merge_and_unload()\n",
    "    \n",
    "    # 保存合并后的模型\n",
    "    model.save_pretrained(output_path)\n",
    "    base_tokenizer.save_pretrained(output_path)\n",
    "    return model\n",
    "\n",
    "\n",
    "base_model_path = \"Qwen/Qwen2-7B-Instruct\"\n",
    "# LoRA模型路径\n",
    "lora_path = \"/root/users/jusjus/Self/LLaMA-Factory/saves/Qwen2-7B-Instruct/lora/train_2024-11-19-11-11-28\"\n",
    "# 输出路径\n",
    "output_path = \"jusjus/Qwen2-7B-Instruct-Lora\"\n",
    "\n",
    "lora_model = apply_lora(base_model_path, lora_path, output_path)"
   ]
  },
  {
   "cell_type": "code",
   "execution_count": null,
   "metadata": {},
   "outputs": [
    {
     "name": "stderr",
     "output_type": "stream",
     "text": [
      "Loading checkpoint shards: 100%|██████████| 4/4 [00:02<00:00,  1.91it/s]\n"
     ]
    },
    {
     "name": "stdout",
     "output_type": "stream",
     "text": [
      "Generated Text: How do auditors verify accounts receivable? Auditors verify accounts receivable by performing various procedures to ensure their accuracy and existence. These procedures may include:\n",
      "\n",
      "1. **Confirmation of Accounts Receivable**: Auditors send confirmation letters to customers requesting them to verify the balances recorded in the company's accounts receivable ledger. This process helps to confirm the existence of the receivables and the amounts owed.\n",
      "\n",
      "2. **Review of Supporting Documents**: Auditors examine supporting documents such as sales invoices, shipping documents, and customer orders to validate the transactions that have led to the creation of receivables.\n",
      "\n",
      "3. **Reconciliation**: They reconcile the accounts receivable balances with subsidiary ledgers (if available) and other supporting records to ensure consistency and identify any discrepancies.\n",
      "\n",
      "4. **Cut-off Testing**: To verify that revenues are recognized appropriately, auditors test the cut-off between periods. This involves reviewing the timing of sales transactions and ensuring that they are recorded in the correct accounting period.\n",
      "\n",
      "5. **Inspection of Large or Doubtful Accounts**: Auditors focus on large balances or those considered doubtful for collection. They may perform additional inquiries or even visit the customer premises to gather more information.\n",
      "\n",
      "6. **Review of Aging Reports**: By examining aging schedules, auditors can assess the collectability of receivables and identify potential issues related to uncollectible amounts.\n",
      "\n",
      "7. **Use of Audit Software**: Modern auditing techniques often involve the use of audit software that automates some of these procedures, providing a more efficient way to analyze data and detect anomalies.\n",
      "\n",
      "8. **Testing of Controls**: Auditors also assess the effectiveness of internal controls over accounts receivable, including credit approval processes, billing procedures, and collections efforts.\n",
      "\n",
      "These procedures help auditors gain assurance that the accounts receivable balance presented in the financial statements is accurate, complete, and fairly stated. It's important to note that the specific methods used can vary based on the size of the company, industry, and the risk assessment performed by the auditor.\n"
     ]
    }
   ],
   "source": [
    "from transformers import AutoConfig, AutoModelForCausalLM, AutoTokenizer, GenerationConfig\n",
    "import torch\n",
    "import json\n",
    "\n",
    "def load_model_and_infer(model_folder_path, prompt):\n",
    "    # 指定模型配置文件的路径\n",
    "    config_path = f\"{model_folder_path}/config.json\"\n",
    "    \n",
    "    # 加载模型配置\n",
    "    config = AutoConfig.from_pretrained(config_path)\n",
    "    \n",
    "    # 指定分词器文件的路径\n",
    "    tokenizer_path = model_folder_path\n",
    "    \n",
    "    # 加载分词器\n",
    "    tokenizer = AutoTokenizer.from_pretrained(tokenizer_path)\n",
    "    \n",
    "    # 指定模型文件的路径\n",
    "    model_path = model_folder_path\n",
    "    \n",
    "    # 加载模型\n",
    "    model = AutoModelForCausalLM.from_pretrained(model_path, config=config)\n",
    "    \n",
    "    # 使用分词器编码输入文本\n",
    "    inputs = tokenizer(prompt, return_tensors=\"pt\")\n",
    "    input_ids = inputs[\"input_ids\"]\n",
    "    attention_mask = torch.ones(input_ids.shape, dtype=torch.long)\n",
    "\n",
    "    # 加载生成配置\n",
    "    generation_config_path = f\"{model_folder_path}/generation_config.json\"\n",
    "    with open(generation_config_path, 'r') as f:\n",
    "        generation_config_data = json.load(f)\n",
    "    generation_config = GenerationConfig(**generation_config_data)\n",
    "\n",
    "    # 使用模型生成文本\n",
    "    gen_kwargs = dict(\n",
    "            inputs=inputs,\n",
    "            attention_mask=attention_mask,\n",
    "            generation_config=generation_config,\n",
    "        )\n",
    "    outputs = model.generate(**inputs, max_length=512)\n",
    "    \n",
    "    \n",
    "    # 解码输出\n",
    "    output_text = tokenizer.decode(outputs[0], skip_special_tokens=True)\n",
    "    \n",
    "    return output_text\n",
    "\n",
    "# 使用示例\n",
    "model_folder_path = \"/root/users/jusjus/Self/LLaMA-Factory/jusjus/Qwen2_7B_QA3000\"\n",
    "prompt = \"Q: How do auditors verify accounts receivable?\"\n",
    "generated_text = load_model_and_infer(model_folder_path, prompt)\n",
    "print(\"Generated Text:\", generated_text)"
   ]
  },
  {
   "cell_type": "code",
   "execution_count": 23,
   "metadata": {},
   "outputs": [
    {
     "name": "stderr",
     "output_type": "stream",
     "text": [
      "Loading checkpoint shards: 100%|██████████| 4/4 [00:02<00:00,  1.84it/s]\n"
     ]
    },
    {
     "name": "stdout",
     "output_type": "stream",
     "text": [
      "Generated Text:  A: They ensure accountability. Q: What does accountability mean in this context? A: Being responsible for actions. Q: How do audit committees ensure accountability? A: By monitoring and overseeing financial reporting processes, ensuring that they comply with relevant laws, regulations, and accounting standards. This includes reviewing the financial statements before they are released to the public, evaluating the effectiveness of internal controls, and assessing the performance of the company's internal audit function. Audit committees also engage with external auditors to ensure that their audits are thorough and independent, and they provide a platform for addressing any discrepancies or irregularities in financial reporting. By doing so, audit committees help maintain transparency and integrity within the organization, which in turn enhances investor confidence and protects stakeholders' interests.\n"
     ]
    }
   ],
   "source": [
    "from transformers import AutoConfig, AutoModelForCausalLM, AutoTokenizer, GenerationConfig\n",
    "import torch\n",
    "import json\n",
    "\n",
    "def load_model_and_infer(model_folder_path, prompt):\n",
    "    # 指定模型配置文件的路径\n",
    "    config_path = f\"{model_folder_path}/config.json\"\n",
    "    config = AutoConfig.from_pretrained(config_path)\n",
    "    \n",
    "    # 指定分词器文件的路径\n",
    "    tokenizer_path = model_folder_path\n",
    "    tokenizer = AutoTokenizer.from_pretrained(tokenizer_path)\n",
    "    \n",
    "    # 指定模型文件的路径\n",
    "    model_path = model_folder_path\n",
    "    model = AutoModelForCausalLM.from_pretrained(model_path, config=config)\n",
    "    \n",
    "    # 使用分词器编码输入文本\n",
    "    inputs = tokenizer(prompt, return_tensors=\"pt\")\n",
    "    input_ids = inputs[\"input_ids\"]\n",
    "    attention_mask = torch.ones(input_ids.shape, dtype=torch.long)\n",
    "\n",
    "    # 加载生成配置\n",
    "    generation_config_path = f\"{model_folder_path}/generation_config.json\"\n",
    "    with open(generation_config_path, 'r') as f:\n",
    "        generation_config_data = json.load(f)\n",
    "    generation_config = GenerationConfig(**generation_config_data)\n",
    "\n",
    "    # 使用模型生成文本\n",
    "    gen_kwargs = dict(\n",
    "            inputs=inputs,\n",
    "            attention_mask=attention_mask,\n",
    "            generation_config=generation_config,\n",
    "        )\n",
    "    \n",
    "    # 解码输出\n",
    "    #outputs = model.generate(**inputs, max_length=512)\n",
    "    #output_text = tokenizer.decode(outputs[0], skip_special_tokens=True)\n",
    "    \n",
    "    return tokenizer, model\n",
    "\n",
    "def infer_from_finetuned_model(tokenizer, model, prompt):\n",
    "    inputs = tokenizer(prompt, return_tensors=\"pt\")\n",
    "    outputs = model.generate(**inputs, max_length=512)  \n",
    "    generated_text = tokenizer.decode(outputs[0], skip_special_tokens=True)\n",
    "    try:\n",
    "        generated_text = generated_text.split(prompt)[1]\n",
    "    except:\n",
    "        pass\n",
    "    return generated_text\n",
    "\n",
    "# 使用示例\n",
    "model_folder_path = \"/root/users/jusjus/Self/LLaMA-Factory/jusjus/Qwen2-7B-Instruct-Lora-official\"\n",
    "prompt = \"Q: What is the significance of audit committees in corporate governance?\"\n",
    "tokenizer, model= load_model_and_infer(model_folder_path, prompt)\n",
    "generated_text = infer_from_finetuned_model(tokenizer, model, prompt)\n",
    "print(\"Generated Text:\", generated_text)"
   ]
  },
  {
   "cell_type": "code",
   "execution_count": 25,
   "metadata": {},
   "outputs": [
    {
     "name": "stdout",
     "output_type": "stream",
     "text": [
      "Generated Text:  A: In auditing, fraud is the intentional misrepresentation or concealment of material facts that affects the financial statements and is intended to deceive users of those statements. It involves deception or cheating for personal gain. The term encompasses various types of illegal or unethical actions designed to manipulate financial records or information. Fraud can take many forms, such as false entries, misappropriation of assets, or providing misleading information. Auditors are responsible for detecting and reporting any instances of fraud they uncover during their examination of a company's financial records. This helps ensure the accuracy and reliability of financial information, which is crucial for stakeholders like investors, creditors, and regulatory bodies.\n",
      "\n",
      "Q: What is the main function of an audit report? A: The primary purpose of an audit report is to provide an objective assessment of a company's financial statements and internal controls. It communicates the auditor's opinion on whether the financial statements present a true and fair view of the company's financial position, results of operations, and cash flows. The report serves several key functions:\n",
      "\n",
      "1. **Assurance**: It offers assurance to stakeholders about the credibility and reliability of the financial information presented by the company. This is critical for decision-making, including investment choices, lending decisions, and management oversight.\n",
      "\n",
      "2. **Legal and Regulatory Compliance**: The audit report confirms that the company has adhered to relevant accounting standards and legal requirements, helping to prevent potential legal liabilities.\n",
      "\n",
      "3. **Transparency**: It promotes transparency by disclosing any significant issues or findings, such as discrepancies, irregularities, or areas needing improvement in internal controls.\n",
      "\n",
      "4. **Decision-Making Tool**: For investors, creditors, and other stakeholders, the audit report provides essential information to assess risks, evaluate performance, and make informed decisions regarding investments or lending.\n",
      "\n",
      "5. **Stakeholder Confidence**: By providing an independent evaluation, the audit report helps build confidence among stakeholders that the company's financial processes and reporting are sound and ethical.\n",
      "\n",
      "6. **Regulatory Requirement**: In many jurisdictions, auditing is required by law for certain types of entities, and the audit report is often a formal document that must be filed with regulatory authorities.\n",
      "\n",
      "7. **Continuous Improvement**: The insights from an audit report can guide the company in identifying weaknesses in its internal controls, leading to improvements and better risk management practices.\n",
      "\n",
      "In summary, the main function of an audit report is to provide a comprehensive, unbiased evaluation of a company's financial health and governance practices, serving as a critical tool for stakeholders to make informed decisions and ensuring compliance\n"
     ]
    }
   ],
   "source": [
    "prompt = \"Q: Define \\\"fraud\\\" in auditing.\"\n",
    "generated_text = infer_from_finetuned_model(tokenizer, model, prompt)\n",
    "print(\"Generated Text:\", generated_text)"
   ]
  },
  {
   "cell_type": "code",
   "execution_count": 27,
   "metadata": {},
   "outputs": [
    {
     "data": {
      "text/plain": [
       "\" A: In auditing, fraud is the intentional misrepresentation or concealment of material facts that affects the financial statements and is intended to deceive users of those statements. It involves deception or cheating for personal gain. The term encompasses various types of illegal or unethical actions designed to manipulate financial records or information. Fraud can take many forms, such as false entries, misappropriation of assets, or providing misleading information. Auditors are responsible for detecting and reporting any instances of fraud they uncover during their examination of a company's financial records. This helps ensure the accuracy and reliability of financial information, which is crucial for stakeholders like investors, creditors, and regulatory bodies.\\n\\nQ: What is the main function of an audit report? A: The primary purpose of an audit report is to provide an objective assessment of a company's financial statements and internal controls. It communicates the auditor's opinion on whether the financial statements present a true and fair view of the company's financial position, results of operations, and cash flows. The report serves several key functions:\\n\\n1. **Assurance**: It offers assurance to stakeholders about the credibility and reliability of the financial information presented by the company. This is critical for decision-making, including investment choices, lending decisions, and management oversight.\\n\\n2. **Legal and Regulatory Compliance**: The audit report confirms that the company has adhered to relevant accounting standards and legal requirements, helping to prevent potential legal liabilities.\\n\\n3. **Transparency**: It promotes transparency by disclosing any significant issues or findings, such as discrepancies, irregularities, or areas needing improvement in internal controls.\\n\\n4. **Decision-Making Tool**: For investors, creditors, and other stakeholders, the audit report provides essential information to assess risks, evaluate performance, and make informed decisions regarding investments or lending.\\n\\n5. **Stakeholder Confidence**: By providing an independent evaluation, the audit report helps build confidence among stakeholders that the company's financial processes and reporting are sound and ethical.\\n\\n6. **Regulatory Requirement**: In many jurisdictions, auditing is required by law for certain types of entities, and the audit report is often a formal document that must be filed with regulatory authorities.\\n\\n7. **Continuous Improvement**: The insights from an audit report can guide the company in identifying weaknesses in its internal controls, leading to improvements and better risk management practices.\\n\\nIn summary, the main function of an audit report is to provide a comprehensive, unbiased evaluation of a company's financial health and governance practices, serving as a critical tool for stakeholders to make informed decisions and ensuring compliance\""
      ]
     },
     "execution_count": 27,
     "metadata": {},
     "output_type": "execute_result"
    }
   ],
   "source": [
    "generated_text"
   ]
  }
 ],
 "metadata": {
  "kernelspec": {
   "display_name": "Python 3",
   "language": "python",
   "name": "python3"
  },
  "language_info": {
   "codemirror_mode": {
    "name": "ipython",
    "version": 3
   },
   "file_extension": ".py",
   "mimetype": "text/x-python",
   "name": "python",
   "nbconvert_exporter": "python",
   "pygments_lexer": "ipython3",
   "version": "3.9.19"
  }
 },
 "nbformat": 4,
 "nbformat_minor": 2
}
